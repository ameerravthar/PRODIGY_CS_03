{
  "nbformat": 4,
  "nbformat_minor": 0,
  "metadata": {
    "colab": {
      "provenance": []
    },
    "kernelspec": {
      "name": "python3",
      "display_name": "Python 3"
    },
    "language_info": {
      "name": "python"
    }
  },
  "cells": [
    {
      "cell_type": "code",
      "execution_count": 3,
      "metadata": {
        "colab": {
          "base_uri": "https://localhost:8080/"
        },
        "id": "uK58M6MTgVb_",
        "outputId": "7accc1ab-6065-4632-fbaa-4c72fa8b7d76"
      },
      "outputs": [
        {
          "output_type": "stream",
          "name": "stdout",
          "text": [
            "Enter password: \n",
            "\n",
            "Strength Score: 0/5\n",
            "❌ Password should be at least 8 characters long.\n",
            "❌ Include at least one uppercase letter.\n",
            "❌ Include at least one lowercase letter.\n",
            "❌ Include at least one digit.\n",
            "❌ Include at least one special character.\n"
          ]
        }
      ],
      "source": [
        "import re\n",
        "\n",
        "def check_password_strength(password):\n",
        "    score = 0\n",
        "    feedback = []\n",
        "\n",
        "    # Space check (no score added or deducted — just a warning)\n",
        "    if \" \" in password:\n",
        "        feedback.append(\"❌ Password should not contain spaces.\")\n",
        "\n",
        "    # Length check\n",
        "    if len(password) >= 8:\n",
        "        score += 1\n",
        "    else:\n",
        "        feedback.append(\"❌ Password should be at least 8 characters long.\")\n",
        "\n",
        "    # Uppercase letter\n",
        "    if re.search(r'[A-Z]', password):\n",
        "        score += 1\n",
        "    else:\n",
        "        feedback.append(\"❌ Include at least one uppercase letter.\")\n",
        "\n",
        "    # Lowercase letter\n",
        "    if re.search(r'[a-z]', password):\n",
        "        score += 1\n",
        "    else:\n",
        "        feedback.append(\"❌ Include at least one lowercase letter.\")\n",
        "\n",
        "    # Digit\n",
        "    if re.search(r'\\d', password):\n",
        "        score += 1\n",
        "    else:\n",
        "        feedback.append(\"❌ Include at least one digit.\")\n",
        "\n",
        "    # Special character\n",
        "    if re.search(r'[!@#$%^&*(),.?\":{}|<>]', password):\n",
        "        score += 1\n",
        "    else:\n",
        "        feedback.append(\"❌ Include at least one special character.\")\n",
        "\n",
        "    # Cap the score at 5\n",
        "    score = min(score, 5)\n",
        "\n",
        "    # Final message\n",
        "    if score == 5 and \"❌ Password should not contain spaces.\" not in feedback:\n",
        "        feedback = [\"✅ Strong password!\"]\n",
        "\n",
        "    return score, feedback\n",
        "\n",
        "# User input\n",
        "pwd = input(\"Enter password: \")\n",
        "score, tips = check_password_strength(pwd)\n",
        "print(f\"\\nStrength Score: {score}/5\")\n",
        "for tip in tips:\n",
        "    print(tip)\n"
      ]
    }
  ]
}